{
 "cells": [
  {
   "cell_type": "code",
   "execution_count": 1,
   "id": "78bdfe89",
   "metadata": {},
   "outputs": [],
   "source": [
    "from dotenv import load_dotenv\n",
    "from supabase import create_client, Client\n",
    "import os\n",
    "\n",
    "# Load environment variables from .env\n",
    "load_dotenv()\n",
    "\n",
    "\n",
    "url: str = os.getenv(\"supabaseUrl\")\n",
    "key: str = os.getenv(\"supabaseKey\")\n",
    "supabase: Client = create_client(url, key)\n"
   ]
  },
  {
   "cell_type": "code",
   "execution_count": 4,
   "id": "6e8ec252",
   "metadata": {},
   "outputs": [
    {
     "name": "stdout",
     "output_type": "stream",
     "text": [
      "Row added successfully: [{'id': 2, 'word': '皮', 'JLPT': 3, 'version': '0.1.1', 'last_update': '06:09:12.529512'}]\n"
     ]
    }
   ],
   "source": [
    "try:\n",
    "    result = supabase.table(\"words\").insert({\n",
    "        \"word\": \"皮\", \n",
    "        \"JLPT\": 3,\n",
    "        \"version\": \"0.1.1\",\n",
    "    }).execute()    \n",
    "    print(\"Row added successfully:\", result.data)\n",
    "except Exception as e:\n",
    "    print(f\"Error adding row: {e}\")"
   ]
  },
  {
   "cell_type": "code",
   "execution_count": 5,
   "id": "489a3d4e",
   "metadata": {},
   "outputs": [
    {
     "data": {
      "text/plain": [
       "APIResponse[~_ReturnT](data=[{'id': 2, 'word': '皮', 'JLPT': 3, 'version': '0.1.1'}], count=None)"
      ]
     },
     "execution_count": 5,
     "metadata": {},
     "output_type": "execute_result"
    }
   ],
   "source": [
    "supabase.table(\"words\").select(\"*\").eq(\"word\", \"皮\").execute()"
   ]
  }
 ],
 "metadata": {
  "kernelspec": {
   "display_name": "jvd310",
   "language": "python",
   "name": "python3"
  },
  "language_info": {
   "codemirror_mode": {
    "name": "ipython",
    "version": 3
   },
   "file_extension": ".py",
   "mimetype": "text/x-python",
   "name": "python",
   "nbconvert_exporter": "python",
   "pygments_lexer": "ipython3",
   "version": "3.10.18"
  }
 },
 "nbformat": 4,
 "nbformat_minor": 5
}
