{
 "cells": [
  {
   "cell_type": "code",
   "execution_count": null,
   "id": "78bdfe89",
   "metadata": {},
   "outputs": [],
   "source": [
    "from dotenv import load_dotenv\n",
    "from supabase import create_client, Client\n",
    "import os\n",
    "\n",
    "# Load environment variables from .env\n",
    "load_dotenv()\n",
    "\n",
    "\n",
    "url: str = os.getenv(\"supabaseUrl\")\n",
    "key: str = os.getenv(\"supabaseKey\")\n",
    "supabase: Client = create_client(url, key)\n"
   ]
  },
  {
   "cell_type": "code",
   "execution_count": null,
   "id": "6e8ec252",
   "metadata": {},
   "outputs": [],
   "source": [
    "try:\n",
    "    result = supabase.table(\"words\").insert({\n",
    "        \"word\": \"皮\", \n",
    "        \"JLPT\": 3,\n",
    "        \"version\": \"0.1.1\",\n",
    "    }).execute()    \n",
    "    print(\"Row added successfully:\", result.data)\n",
    "except Exception as e:\n",
    "    print(f\"Error adding row: {e}\")"
   ]
  },
  {
   "cell_type": "code",
   "execution_count": 4,
   "id": "489a3d4e",
   "metadata": {},
   "outputs": [
    {
     "name": "stdout",
     "output_type": "stream",
     "text": [
      "[{'id': 19, 'word': '中身', 'JLPT': 2}, {'id': 20, 'word': '人命', 'JLPT': 2}, {'id': 21, 'word': '体制', 'JLPT': 2}, {'id': 22, 'word': '広場', 'JLPT': 2}, {'id': 23, 'word': '推定', 'JLPT': 2}, {'id': 24, 'word': '標準', 'JLPT': 2}, {'id': 25, 'word': '素直', 'JLPT': 2}, {'id': 26, 'word': '花嫁', 'JLPT': 2}, {'id': 27, 'word': '鈍い', 'JLPT': 2}]\n"
     ]
    }
   ],
   "source": [
    "import db_word\n",
    "\n",
    "result = db_word.get_words(2)\n",
    "print(result)"
   ]
  }
 ],
 "metadata": {
  "kernelspec": {
   "display_name": "jvd310",
   "language": "python",
   "name": "python3"
  },
  "language_info": {
   "codemirror_mode": {
    "name": "ipython",
    "version": 3
   },
   "file_extension": ".py",
   "mimetype": "text/x-python",
   "name": "python",
   "nbconvert_exporter": "python",
   "pygments_lexer": "ipython3",
   "version": "3.10.18"
  }
 },
 "nbformat": 4,
 "nbformat_minor": 5
}
