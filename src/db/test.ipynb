{
 "cells": [
  {
   "cell_type": "code",
   "execution_count": null,
   "id": "78bdfe89",
   "metadata": {},
   "outputs": [],
   "source": "from client import get_supabase_client\n\n# Get the centralized Supabase client\nsupabase = get_supabase_client()"
  },
  {
   "cell_type": "code",
   "execution_count": null,
   "id": "6e8ec252",
   "metadata": {},
   "outputs": [],
   "source": [
    "try:\n",
    "    result = supabase.table(\"words\").insert({\n",
    "        \"word\": \"皮\", \n",
    "        \"JLPT\": 3,\n",
    "        \"version\": \"0.1.1\",\n",
    "    }).execute()    \n",
    "    print(\"Row added successfully:\", result.data)\n",
    "except Exception as e:\n",
    "    print(f\"Error adding row: {e}\")"
   ]
  },
  {
   "cell_type": "code",
   "execution_count": 4,
   "id": "489a3d4e",
   "metadata": {},
   "outputs": [
    {
     "name": "stdout",
     "output_type": "stream",
     "text": [
      "[{'id': 19, 'word': '中身', 'JLPT': 2}, {'id': 20, 'word': '人命', 'JLPT': 2}, {'id': 21, 'word': '体制', 'JLPT': 2}, {'id': 22, 'word': '広場', 'JLPT': 2}, {'id': 23, 'word': '推定', 'JLPT': 2}, {'id': 24, 'word': '標準', 'JLPT': 2}, {'id': 25, 'word': '素直', 'JLPT': 2}, {'id': 26, 'word': '花嫁', 'JLPT': 2}, {'id': 27, 'word': '鈍い', 'JLPT': 2}]\n"
     ]
    }
   ],
   "source": [
    "import db_word\n",
    "\n",
    "result = db_word.get_words(2)\n",
    "print(result)"
   ]
  },
  {
   "cell_type": "code",
   "execution_count": null,
   "id": "0474139e",
   "metadata": {},
   "outputs": [
    {
     "name": "stdout",
     "output_type": "stream",
     "text": [
      "'2025-09-09T00:52:55.124030+00:00'\n",
      "[{'difficulty': 4.88463,\n",
      "  'due': '2025-09-08T15:11:45.085697',\n",
      "  'id': 8,\n",
      "  'key': '人命',\n",
      "  'last_review': '2025-09-08T15:01:45.085697',\n",
      "  'stability': 3.2602,\n",
      "  'state': 1,\n",
      "  'step': 1,\n",
      "  'type': 'JPWord',\n",
      "  'user_id': '4c10542b-ae1d-489a-9547-4487a26952e3'}]\n"
     ]
    }
   ],
   "source": [
    "from datetime import datetime, timezone\n",
    "from pprint import pprint\n",
    "now = datetime.now(timezone.utc).isoformat()\n",
    "pprint(now)\n",
    "response = (\n",
    "            supabase.table(\"user_card\")\n",
    "            .select(\"*\", count=\"exact\")\n",
    "            .eq(\"user_id\", \"4c10542b-ae1d-489a-9547-4487a26952e3\")\n",
    "            .eq(\"type\", \"JPWord\")\n",
    "            .lt(\"due\", now)\n",
    "            .execute()\n",
    "        )\n",
    "pprint(response.data)"
   ]
  }
 ],
 "metadata": {
  "kernelspec": {
   "display_name": "jvd310",
   "language": "python",
   "name": "python3"
  },
  "language_info": {
   "codemirror_mode": {
    "name": "ipython",
    "version": 3
   },
   "file_extension": ".py",
   "mimetype": "text/x-python",
   "name": "python",
   "nbconvert_exporter": "python",
   "pygments_lexer": "ipython3",
   "version": "3.10.18"
  }
 },
 "nbformat": 4,
 "nbformat_minor": 5
}