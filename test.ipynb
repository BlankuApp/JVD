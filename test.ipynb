{
 "cells": [
  {
   "cell_type": "code",
   "execution_count": 58,
   "id": "19b0f4c5",
   "metadata": {},
   "outputs": [
    {
     "name": "stdout",
     "output_type": "stream",
     "text": [
      "{\"name\": \"jp_word_info\", \"strict\": true, \"schema\": {\"$defs\": {\"JapaneseText\": {\"additionalProperties\": false, \"properties\": {\"kanji\": {\"additional_properties\": false, \"examples\": [\"本を読む\"], \"maxLength\": 100, \"title\": \"Kanji\", \"type\": \"string\"}, \"furigana\": {\"additional_properties\": false, \"examples\": [\"本(ほん)を読(よ)む\"], \"maxLength\": 100, \"title\": \"Furigana\", \"type\": \"string\"}}, \"required\": [\"kanji\", \"furigana\"], \"title\": \"JapaneseText\", \"type\": \"object\"}, \"KanjiDetail\": {\"additionalProperties\": false, \"properties\": {\"kanji\": {\"additional_properties\": false, \"examples\": [\"学\", \"校\"], \"maxLength\": 1, \"title\": \"Kanji\", \"type\": \"string\"}, \"onyomi\": {\"additional_properties\": false, \"examples\": [[\"がく\"], [\"こう\", \"きょう\"]], \"items\": {\"type\": \"string\"}, \"maxItems\": 2, \"minItems\": 0, \"title\": \"Onyomi\", \"type\": \"array\"}, \"kunyomi\": {\"additional_properties\": false, \"examples\": [[\"まな.ぶ\"], [\"つか.う\", \"つか.える\"]], \"items\": {\"type\": \"string\"}, \"maxItems\": 2, \"minItems\": 0, \"title\": \"Kunyomi\", \"type\": \"array\"}, \"meanings_english\": {\"additional_properties\": false, \"examples\": [[\"study\", \"learning\"], [\"school\", \"exam\"]], \"items\": {\"type\": \"string\"}, \"maxItems\": 3, \"minItems\": 1, \"title\": \"Meanings English\", \"type\": \"array\"}, \"common_words\": {\"additional_properties\": false, \"examples\": [[\"土曜日 (どようび): Saturday\", \"土地 (とち): land, plot\"], [\"出産 (しゅっさん): childbirth\", \"産業 (さんぎょう): industry\"]], \"items\": {\"type\": \"string\"}, \"maxItems\": 2, \"minItems\": 1, \"title\": \"Common Words\", \"type\": \"array\"}}, \"required\": [\"kanji\", \"onyomi\", \"kunyomi\", \"meanings_english\", \"common_words\"], \"title\": \"KanjiDetail\", \"type\": \"object\"}}, \"additionalProperties\": false, \"properties\": {\"kanji\": {\"additional_properties\": false, \"examples\": [\"学校\", \"猫\", \"走る\"], \"maxLength\": 4, \"title\": \"Kanji\", \"type\": \"string\"}, \"reading\": {\"additional_properties\": false, \"examples\": [\"がっこう\", \"ねこ\", \"はしる\"], \"maxLength\": 8, \"title\": \"Reading\", \"type\": \"string\"}, \"introduction_japanese\": {\"additional_properties\": false, \"maxLength\": 250, \"title\": \"Introduction Japanese\", \"type\": \"string\"}, \"introduction_english\": {\"additional_properties\": false, \"maxLength\": 250, \"title\": \"Introduction English\", \"type\": \"string\"}, \"meanings\": {\"additional_properties\": false, \"examples\": [[[\"degree\", \"level\", \"amount\"], [\"balance\", \"moderation\"]]], \"items\": {\"items\": {\"description\": \"single english word\", \"maxLength\": 20, \"type\": \"string\"}, \"maxItems\": 5, \"minItems\": 1, \"type\": \"array\"}, \"maxItems\": 3, \"minItems\": 1, \"title\": \"Meanings\", \"type\": \"array\"}, \"meaning_explanation_japanese\": {\"additional_properties\": false, \"maxLength\": 250, \"title\": \"Meaning Explanation Japanese\", \"type\": \"string\"}, \"meaning_explanation_english\": {\"additional_properties\": false, \"maxLength\": 250, \"title\": \"Meaning Explanation English\", \"type\": \"string\"}, \"youtube_description\": {\"additional_properties\": false, \"maxLength\": 250, \"title\": \"Youtube Description\", \"type\": \"string\"}, \"kanji_details\": {\"items\": {\"$ref\": \"#/$defs/KanjiDetail\"}, \"maxItems\": 4, \"minItems\": 1, \"title\": \"Kanji Details\", \"type\": \"array\"}, \"kanji_explanation\": {\"additional_properties\": false, \"maxLength\": 500, \"title\": \"Kanji Explanation\", \"type\": \"string\"}, \"synonyms\": {\"examples\": [[\"土産 : みやげ : souvenir\", \"贈り物 : おくりもの : gift, present\"]], \"items\": {\"maxLength\": 50, \"type\": \"string\"}, \"maxItems\": 2, \"minItems\": 0, \"title\": \"Synonyms\", \"type\": \"array\"}, \"synonym_explanation\": {\"additional_properties\": false, \"maxLength\": 250, \"title\": \"Synonym Explanation\", \"type\": \"string\"}, \"antonyms\": {\"examples\": [[\"暑い : あつい : hot\", \"高い : たかい : tall, high\"]], \"items\": {\"maxLength\": 50, \"type\": \"string\"}, \"maxItems\": 2, \"minItems\": 0, \"title\": \"Antonyms\", \"type\": \"array\"}, \"antonym_explanation\": {\"additional_properties\": false, \"maxLength\": 250, \"title\": \"Antonym Explanation\", \"type\": \"string\"}, \"collocations\": {\"items\": {\"$ref\": \"#/$defs/JapaneseText\"}, \"maxItems\": 8, \"minItems\": 5, \"title\": \"Collocations\", \"type\": \"array\"}, \"example_sentences\": {\"items\": {\"$ref\": \"#/$defs/JapaneseText\"}, \"maxItems\": 5, \"minItems\": 4, \"title\": \"Example Sentences\", \"type\": \"array\"}}, \"required\": [\"kanji\", \"reading\", \"introduction_japanese\", \"introduction_english\", \"meanings\", \"meaning_explanation_japanese\", \"meaning_explanation_english\", \"youtube_description\", \"kanji_details\", \"kanji_explanation\", \"synonyms\", \"synonym_explanation\", \"antonyms\", \"antonym_explanation\", \"collocations\", \"example_sentences\"], \"title\": \"JPWordInfo\", \"type\": \"object\", \"additional_properties\": false}}\n"
     ]
    }
   ],
   "source": [
    "from pydantic import BaseModel, Field, ConfigDict\n",
    "from typing import Annotated\n",
    "from typing import List\n",
    "import pprint\n",
    "\n",
    "class KanjiDetail(BaseModel):\n",
    "    model_config = ConfigDict(extra='forbid')\n",
    "    kanji: str = Field(examples=[\"学\", \"校\"], max_length=1, additional_properties=False)\n",
    "    onyomi: list[str] = Field(min_items=0, max_items=2, examples=[[\"がく\"], [\"こう\", \"きょう\"]], additional_properties=False)\n",
    "    kunyomi: list[str] = Field(min_items=0, max_items=2, examples=[[\"まな.ぶ\"], [\"つか.う\", \"つか.える\"]], additional_properties=False)\n",
    "    meanings_english: list[str] = Field(min_items=1, max_items=3, examples=[[\"study\", \"learning\"], [\"school\", \"exam\"]], additional_properties=False)\n",
    "    common_words: list[str] = Field(min_items=1, max_items=2, examples=[[\"土曜日 (どようび): Saturday\", \"土地 (とち): land, plot\"], [\"出産 (しゅっさん): childbirth\", \"産業 (さんぎょう): industry\"]], additional_properties=False)\n",
    "\n",
    "NuanceList = Annotated[List[Annotated[str, Field(max_length=20, description=\"single english word\")]], Field(min_items=1, max_items=5)]\n",
    "\n",
    "class JapaneseText(BaseModel):\n",
    "    model_config = ConfigDict(extra='forbid')\n",
    "    kanji: str = Field(examples=[\"本を読む\"], max_length=100, additional_properties=False)\n",
    "    furigana: str = Field(examples=[\"本(ほん)を読(よ)む\"], max_length=100, additional_properties=False)\n",
    "\n",
    "class JPWordInfo(BaseModel):\n",
    "    model_config = ConfigDict(extra='forbid')\n",
    "    kanji: str = Field(examples=[\"学校\", \"猫\", \"走る\"], max_length=4, additional_properties=False)\n",
    "    reading: str = Field(examples=[\"がっこう\", \"ねこ\", \"はしる\"], max_length=8, additional_properties=False)\n",
    "    introduction_japanese: str = Field(max_length=250, additional_properties=False)\n",
    "    introduction_english: str = Field(max_length=250, additional_properties=False)\n",
    "    meanings: List[NuanceList] = Field(min_items=1, max_items=3, examples=[[[\"degree\", \"level\", \"amount\"], [\"balance\", \"moderation\"]]], additional_properties=False)\n",
    "    meaning_explanation_japanese: str = Field(max_length=250, additional_properties=False)\n",
    "    meaning_explanation_english: str = Field(max_length=250, additional_properties=False)\n",
    "    youtube_description: str = Field(max_length=250, additional_properties=False)\n",
    "    kanji_details: list[KanjiDetail] = Field(min_items=1, max_items=4)\n",
    "    kanji_explanation: str = Field(max_length=500, additional_properties=False)\n",
    "    synonyms: list[Annotated[str, Field(max_length=50)]] = Field(min_items=0, max_items=2, examples=[[\"土産 : みやげ : souvenir\",\"贈り物 : おくりもの : gift, present\"]])\n",
    "    synonym_explanation : str = Field(max_length=250, additional_properties=False)\n",
    "    antonyms: list[Annotated[str, Field(max_length=50)]] = Field(min_items=0, max_items=2, examples=[[\"暑い : あつい : hot\",\"高い : たかい : tall, high\"]])\n",
    "    antonym_explanation : str = Field(max_length=250, additional_properties=False)\n",
    "    collocations: list[JapaneseText] = Field(min_items=5, max_items=8)\n",
    "    example_sentences: list[JapaneseText] = Field(min_items=4, max_items=5)\n",
    "\n",
    "openai_schema = {\n",
    "    \"name\": \"jp_word_info\",\n",
    "    \"strict\": True,\n",
    "    \"schema\": {**JPWordInfo.model_json_schema(), \"additional_properties\": False}\n",
    "    # \"schema\": JPWordInfo.model_json_schema()\n",
    "}\n",
    "\n",
    "openai_schema_string = str(openai_schema).replace(\"'\", '\"').replace(\"True\", \"true\").replace(\"False\", \"false\")\n",
    "print(openai_schema_string)\n",
    "# pprint.pprint(openai_schema)"
   ]
  }
 ],
 "metadata": {
  "kernelspec": {
   "display_name": ".venv (3.10.18)",
   "language": "python",
   "name": "python3"
  },
  "language_info": {
   "codemirror_mode": {
    "name": "ipython",
    "version": 3
   },
   "file_extension": ".py",
   "mimetype": "text/x-python",
   "name": "python",
   "nbconvert_exporter": "python",
   "pygments_lexer": "ipython3",
   "version": "3.10.18"
  }
 },
 "nbformat": 4,
 "nbformat_minor": 5
}
