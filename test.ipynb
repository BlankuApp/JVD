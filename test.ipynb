{
 "cells": [
  {
   "cell_type": "code",
   "execution_count": 2,
   "id": "4a143999",
   "metadata": {},
   "outputs": [],
   "source": [
    "from src.pyfsrs.card import JPWordCard\n",
    "from src.pyfsrs.review_log import Rating\n",
    "from src.pyfsrs.scheduler import Scheduler\n",
    "from datetime import datetime, timedelta, timezone"
   ]
  },
  {
   "cell_type": "code",
   "execution_count": 7,
   "id": "f29b4e3d",
   "metadata": {},
   "outputs": [
    {
     "name": "stdout",
     "output_type": "stream",
     "text": [
      "JPWordCard(card_id=1, state=1, step=1, stability=3.2602, difficulty=4.884631634813845, due=datetime.datetime(2025, 9, 8, 14, 22, 6, 652701, tzinfo=datetime.timezone.utc), last_review=datetime.datetime(2025, 9, 8, 14, 12, 6, 652701, tzinfo=datetime.timezone.utc), word='不利')\n"
     ]
    }
   ],
   "source": [
    "# current UTC time\n",
    "review_datetime = datetime.now(timezone.utc)\n",
    "card = JPWordCard(\n",
    "    word=\"不利\",\n",
    "    card_id=1,\n",
    "    state=1,\n",
    "    step=None,\n",
    "    stability=None,\n",
    "    difficulty=None,\n",
    "    due=None,\n",
    "    last_review=None,\n",
    ")\n",
    "\n",
    "sch = Scheduler(enable_fuzzing=False)\n",
    "rating = Rating.Good\n",
    "card, review_log = sch.review_card(card, rating, review_datetime)\n",
    "print(card)"
   ]
  }
 ],
 "metadata": {
  "kernelspec": {
   "display_name": "jvd310",
   "language": "python",
   "name": "python3"
  },
  "language_info": {
   "codemirror_mode": {
    "name": "ipython",
    "version": 3
   },
   "file_extension": ".py",
   "mimetype": "text/x-python",
   "name": "python",
   "nbconvert_exporter": "python",
   "pygments_lexer": "ipython3",
   "version": "3.10.18"
  }
 },
 "nbformat": 4,
 "nbformat_minor": 5
}
